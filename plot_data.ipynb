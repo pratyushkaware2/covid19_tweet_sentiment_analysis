{
 "cells": [
  {
   "cell_type": "code",
   "execution_count": 1,
   "metadata": {},
   "outputs": [],
   "source": [
    "import matplotlib.pyplot as plt\n",
    "import pandas as pd\n",
    "from collections import defaultdict"
   ]
  },
  {
   "cell_type": "code",
   "execution_count": 2,
   "metadata": {},
   "outputs": [],
   "source": [
    "df = pd.read_csv('sentiment_india_data.csv')"
   ]
  },
  {
   "cell_type": "code",
   "execution_count": 15,
   "metadata": {},
   "outputs": [],
   "source": [
    "datewise = defaultdict(lambda: defaultdict(lambda: {'neg': 0, 'pos':0}))\n",
    "for row in df.iterrows():\n",
    "    if row[1].sentiment == 0:\n",
    "        datewise[row[1].state][row[1].date]['neg'] += 1\n",
    "    else:\n",
    "        datewise[row[1].state][row[1].date]['pos'] += 1"
   ]
  },
  {
   "cell_type": "code",
   "execution_count": 43,
   "metadata": {},
   "outputs": [
    {
     "data": {
      "image/png": "[encoded data removed]",
      "text/plain": [
       "<Figure size 432x288 with 1 Axes>"
      ]
     },
     "metadata": {
      "needs_background": "light"
     },
     "output_type": "display_data"
    }
   ],
   "source": [
    "plt.xticks(rotation=90)\n",
    "pos_list = []\n",
    "neg_list = []\n",
    "count = []\n",
    "for data in list(datewise['Maharashtra'].values()):\n",
    "    p = data['pos']\n",
    "    n = data['neg']\n",
    "    count.append(p+n)\n",
    "    pos_list.append(p/(n+p))\n",
    "    neg_list.append(n/(n+p))\n",
    "\n",
    "max_count = max(count)\n",
    "for date, p_val, n_val, count in zip(list(datewise['Maharashtra'].keys()), pos_list, neg_list, count):\n",
    "    opacity = count/max_count\n",
    "    plt.bar(date, 1, alpha= opacity, color = 'r')\n",
    "    plt.bar(date, p_val, alpha= opacity, color = 'b')\n",
    "    \n",
    "# plt.bar(list(datewise['Maharashtra'].keys()), neg_list, alpha=1, color = 'r')\n",
    "# plt.bar(list(datewise['Maharashtra'].keys()), pos_list, alpha=1, color = 'b')"
   ]
  }
 ],
 "metadata": {
  "kernelspec": {
   "display_name": "Python 3",
   "language": "python",
   "name": "python3"
  },
  "language_info": {
   "codemirror_mode": {
    "name": "ipython",
    "version": 3
   },
   "file_extension": ".py",
   "mimetype": "text/x-python",
   "name": "python",
   "nbconvert_exporter": "python",
   "pygments_lexer": "ipython3",
   "version": "3.6.10"
  }
 },
 "nbformat": 4,
 "nbformat_minor": 4
}
